{
 "cells": [
  {
   "cell_type": "code",
   "execution_count": 1,
   "metadata": {},
   "outputs": [],
   "source": [
    "from sklearn.model_selection import train_test_split, GridSearchCV, RepeatedKFold\n",
    "from sklearn.svm import SVR\n",
    "from pickle import load\n",
    "from sklearn.metrics import r2_score, root_mean_squared_error"
   ]
  },
  {
   "cell_type": "code",
   "execution_count": 2,
   "metadata": {},
   "outputs": [],
   "source": [
    "with open('data/calc_data.pickle', 'rb') as file:\n",
    "    arr_X, arr_Y = load(file)"
   ]
  },
  {
   "cell_type": "code",
   "execution_count": 3,
   "metadata": {},
   "outputs": [],
   "source": [
    "x_train, x_test, y_train, y_test = train_test_split(\n",
    "    arr_X, arr_Y, test_size=0.1, random_state=42)"
   ]
  },
  {
   "cell_type": "code",
   "execution_count": null,
   "metadata": {},
   "outputs": [
    {
     "name": "stdout",
     "output_type": "stream",
     "text": [
      "Fitting 25 folds for each of 496 candidates, totalling 12400 fits\n"
     ]
    }
   ],
   "source": [
    "cv = RepeatedKFold(n_splits=5, n_repeats=5, random_state=42)\n",
    "c = [1, 10, 50, 100]\n",
    "g = [0.1, 0.01, 0.001]\n",
    "cf = [0, 0.5, 1]\n",
    "epsilon = [0.01, 0.1, 0.2, 0.3]\n",
    "pg = [\n",
    "    {\n",
    "        'kernel': ['linear'],\n",
    "        'C': c, \n",
    "        'epsilon': epsilon\n",
    "    }, \n",
    "    {\n",
    "        'kernel': ['poly'],\n",
    "        'gamma': g,\n",
    "        'C': c, \n",
    "        'degree': [2, 3],\n",
    "        'coef0' : cf,\n",
    "        'epsilon': epsilon\n",
    "\n",
    "    },\n",
    "    {\n",
    "        'kernel': ['sigmoid'],\n",
    "        'gamma': g,\n",
    "        'C' : c,\n",
    "        'coef0' : cf,        \n",
    "        'epsilon': epsilon\n",
    "    },\n",
    "    {\n",
    "        'kernel':  ['rbf'],\n",
    "        'gamma': g,\n",
    "        'C' : c,\n",
    "        'epsilon': epsilon\n",
    "\n",
    "    }]\n",
    "grid = GridSearchCV(SVR(verbose=1), pg, cv=cv, verbose=1, scoring='r2', n_jobs=12)\n",
    "grid.fit(x_train, y_train.ravel())"
   ]
  },
  {
   "cell_type": "code",
   "execution_count": null,
   "metadata": {},
   "outputs": [],
   "source": [
    "y_pred = grid.predict(x_test)\n",
    "print(r2_score(y_test, y_pred), root_mean_squared_error(y_test, y_pred))"
   ]
  },
  {
   "cell_type": "code",
   "execution_count": null,
   "metadata": {},
   "outputs": [],
   "source": [
    "print('test')"
   ]
  },
  {
   "cell_type": "code",
   "execution_count": null,
   "metadata": {},
   "outputs": [],
   "source": []
  }
 ],
 "metadata": {
  "kernelspec": {
   "display_name": "Python 3",
   "language": "python",
   "name": "python3"
  },
  "language_info": {
   "codemirror_mode": {
    "name": "ipython",
    "version": 3
   },
   "file_extension": ".py",
   "mimetype": "text/x-python",
   "name": "python",
   "nbconvert_exporter": "python",
   "pygments_lexer": "ipython3",
   "version": "3.13.1"
  }
 },
 "nbformat": 4,
 "nbformat_minor": 4
}
